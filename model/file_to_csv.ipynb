{
 "cells": [
  {
   "cell_type": "markdown",
   "id": "18d7c6cb-a3a8-41dc-9b26-03554ad85b18",
   "metadata": {},
   "source": [
    "## 데이터 csv 만들기"
   ]
  },
  {
   "cell_type": "code",
   "execution_count": null,
   "id": "f46b806e-f912-47a2-9822-e50a23a19cc0",
   "metadata": {},
   "outputs": [],
   "source": [
    "import os\n",
    "import pandas as pd\n",
    "import numpy as np\n",
    "import matplotlib.pyplot as plt\n",
    "from sklearn.model_selection import train_test_split"
   ]
  },
  {
   "cell_type": "code",
   "execution_count": null,
   "id": "951903e6-8dfa-4b11-9508-6c651d260208",
   "metadata": {},
   "outputs": [],
   "source": [
    "# 옷 종류 확인하기\n",
    "PATH = \"../data/\"\n",
    "top_list = os.listdir(PATH+\"top\")\n",
    "outer_list = os.listdir(PATH+\"outer/\")\n",
    "cloths_list = top_list+outer_list\n",
    "\n",
    "cloth_cnt = {}\n",
    "\n",
    "for top_type in top_list:\n",
    "    cloth_cnt[f\"top/{top_type}\"] = len(os.listdir(PATH+f\"top/{top_type}/\"))\n",
    "\n",
    "for outer_type in outer_list:\n",
    "    cloth_cnt[f\"outer/{outer_type}\"] = len(os.listdir(PATH+f\"outer/{outer_type}\"))\n",
    "\n",
    "print(cloth_cnt)"
   ]
  },
  {
   "cell_type": "code",
   "execution_count": null,
   "id": "8efb1e03-5a20-48da-a881-8033134e9a0a",
   "metadata": {},
   "outputs": [],
   "source": [
    "# 500개 이상인 옷만 별도 분류\n",
    "data_list = []\n",
    "for name, cnt in cloth_cnt.items():\n",
    "    if cnt >= 500:\n",
    "        data_list.append(name)"
   ]
  },
  {
   "cell_type": "code",
   "execution_count": null,
   "id": "82dd6c81-2ad1-4567-98cb-5554dc20a544",
   "metadata": {},
   "outputs": [],
   "source": [
    "data_dict = {\n",
    "    \"path\": [],\n",
    "    \"class\": []\n",
    "}"
   ]
  },
  {
   "cell_type": "code",
   "execution_count": null,
   "id": "99e6de88-79e4-4acf-aaa2-11f649ac94e2",
   "metadata": {},
   "outputs": [],
   "source": [
    "for idx, data in enumerate(data_list):\n",
    "    category, name = data.split(\"/\")\n",
    "    for file_name in os.listdir(f\"{PATH}{category}/{name}/\"):\n",
    "        data_dict[\"path\"].append(f\"{PATH}{category}/{name}/{file_name}\")\n",
    "        data_dict[\"class\"].append(idx)"
   ]
  },
  {
   "cell_type": "code",
   "execution_count": null,
   "id": "833a8111-1c72-44ae-b77c-752425aff59b",
   "metadata": {},
   "outputs": [],
   "source": [
    "data_df = pd.DataFrame(data=data_dict, index=None)\n",
    "data_df"
   ]
  },
  {
   "cell_type": "code",
   "execution_count": null,
   "id": "cc180690-6f78-452c-b5fd-34580df69c7d",
   "metadata": {},
   "outputs": [],
   "source": [
    "train, val = train_test_split(data_df, stratify=data_df['class'], random_state=123, test_size=0.2)"
   ]
  },
  {
   "cell_type": "code",
   "execution_count": null,
   "id": "def2962d-f6aa-4fc6-9051-f9676766d3b4",
   "metadata": {},
   "outputs": [],
   "source": [
    "train.reset_index(drop=True, inplace=True)\n",
    "val.reset_index(drop=True, inplace=True)\n",
    "\n",
    "train.to_csv(\"./train.csv\", index=False)\n",
    "val.to_csv(\"./val.csv\", index=False)"
   ]
  }
 ],
 "metadata": {
  "kernelspec": {
   "display_name": "Python 3 (ipykernel)",
   "language": "python",
   "name": "python3"
  },
  "language_info": {
   "codemirror_mode": {
    "name": "ipython",
    "version": 3
   },
   "file_extension": ".py",
   "mimetype": "text/x-python",
   "name": "python",
   "nbconvert_exporter": "python",
   "pygments_lexer": "ipython3",
   "version": "3.9.12"
  }
 },
 "nbformat": 4,
 "nbformat_minor": 5
}
